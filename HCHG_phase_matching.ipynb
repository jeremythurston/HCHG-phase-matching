{
 "cells": [
  {
   "cell_type": "code",
   "execution_count": 1,
   "id": "c05b7e3a",
   "metadata": {},
   "outputs": [],
   "source": [
    "%matplotlib inline\n",
    "import numpy as np\n",
    "import matplotlib.pyplot as plt\n",
    "\n",
    "plt.style.use([\"science\", \"notebook\"])\n",
    "\n",
    "# constants\n",
    "c = 299792458 # speed of light (m/s)\n",
    "\n",
    "# parameters\n",
    "wl2 = 1030.0e-9 / 2\n",
    "wl3 = 1030.0e-9 / 3\n",
    "wl4 = 1030.0e-9 / 4\n",
    "u = 2.405\n",
    "a = 33e-6\n",
    "atm_to_psi = 14.7"
   ]
  },
  {
   "cell_type": "markdown",
   "id": "58c1172c",
   "metadata": {},
   "source": [
    "Phase mismatch for the $\\omega_4 = \\omega_3 + \\omega_3 - \\omega_2$ process:\n",
    "\n",
    "$\\Delta k \\equiv k_2 + k_4 - 2k_3 = 2 \\pi N \\big( \\frac{\\delta_2}{\\lambda_2} + \\frac{\\delta_4}{\\lambda_4} - \\frac{2\\delta_3}{\\lambda_3} \\big) - \\frac{u}{4 \\pi a^2}(\\lambda_2 + \\lambda_4 - 2 \\lambda_3)$"
   ]
  },
  {
   "cell_type": "markdown",
   "id": "05a20dc5",
   "metadata": {},
   "source": [
    "Zero when\n",
    "\n",
    "$N = \\frac{u}{8 \\pi^2 a^2} (\\lambda_2 + \\lambda_4 - 2\\lambda_3) \\big/ \\big( \\frac{\\delta_2}{\\lambda_2} + \\frac{\\delta_4}{\\lambda_4} - \\frac{2\\delta_3}{\\lambda_3} \\big)$"
   ]
  },
  {
   "cell_type": "code",
   "execution_count": 2,
   "id": "d94d54c2",
   "metadata": {},
   "outputs": [],
   "source": [
    "wls = np.linspace(200e-9, 2000e-9, 1024)\n",
    "\n",
    "gas = \"Xe\"\n",
    "\n",
    "if gas == \"Ar\":\n",
    "    ...\n",
    "elif gas == \"Xe\":\n",
    "    n = 0.00322869/(46.301 - wls**-2) + 0.00355393/(59.578 - wls**-2) + 0.0606764/(112.74 - wls**-2)\n",
    "elif gas == \"Ne\":\n",
    "    ...\n",
    "elif gas == \"Kr\":\n",
    "    n = 0.00253637/(65.4742 - wls**-2) + 0.00273649/(73.698 - wls**-2) + 0.0620802/(181.08 - wls**-2)\n",
    "else:\n",
    "    print(f\"Gas {gas} not found.\")\n",
    "    \n"
   ]
  },
  {
   "cell_type": "code",
   "execution_count": 3,
   "id": "0255efb7",
   "metadata": {},
   "outputs": [
    {
     "data": {
      "text/plain": [
       "Text(0, 0.5, 'n - 1')"
      ]
     },
     "execution_count": 3,
     "metadata": {},
     "output_type": "execute_result"
    },
    {
     "data": {
      "image/png": "[encoded data removed]",
      "text/plain": [
       "<Figure size 576x432 with 1 Axes>"
      ]
     },
     "metadata": {
      "needs_background": "light"
     },
     "output_type": "display_data"
    }
   ],
   "source": [
    "plt.plot(wls*1e9, n)\n",
    "plt.xlabel(\"Wavelength (nm)\")\n",
    "plt.ylabel(\"n - 1\")"
   ]
  },
  {
   "cell_type": "code",
   "execution_count": 4,
   "id": "4bf6b69d",
   "metadata": {},
   "outputs": [
    {
     "ename": "NameError",
     "evalue": "name 'd2' is not defined",
     "output_type": "error",
     "traceback": [
      "\u001b[1;31m---------------------------------------------------------------------------\u001b[0m",
      "\u001b[1;31mNameError\u001b[0m                                 Traceback (most recent call last)",
      "\u001b[1;32m~\\AppData\\Local\\Temp/ipykernel_28276/2261282147.py\u001b[0m in \u001b[0;36m<module>\u001b[1;34m\u001b[0m\n\u001b[1;32m----> 1\u001b[1;33m \u001b[0mN\u001b[0m \u001b[1;33m=\u001b[0m \u001b[0mu\u001b[0m \u001b[1;33m/\u001b[0m \u001b[1;33m(\u001b[0m\u001b[1;36m8\u001b[0m \u001b[1;33m*\u001b[0m \u001b[0mnp\u001b[0m\u001b[1;33m.\u001b[0m\u001b[0mpi\u001b[0m\u001b[1;33m**\u001b[0m\u001b[1;36m2\u001b[0m \u001b[1;33m*\u001b[0m \u001b[0ma\u001b[0m\u001b[1;33m**\u001b[0m\u001b[1;36m2\u001b[0m\u001b[1;33m)\u001b[0m \u001b[1;33m*\u001b[0m \u001b[1;33m(\u001b[0m\u001b[0mwl2\u001b[0m  \u001b[1;33m+\u001b[0m \u001b[0mwl4\u001b[0m \u001b[1;33m-\u001b[0m \u001b[1;36m2\u001b[0m \u001b[1;33m*\u001b[0m \u001b[0mwl3\u001b[0m\u001b[1;33m)\u001b[0m \u001b[1;33m/\u001b[0m \u001b[1;33m(\u001b[0m\u001b[0md2\u001b[0m \u001b[1;33m/\u001b[0m \u001b[0mwl2\u001b[0m \u001b[1;33m+\u001b[0m \u001b[0md4\u001b[0m \u001b[1;33m/\u001b[0m \u001b[0mwl4\u001b[0m \u001b[1;33m-\u001b[0m \u001b[1;36m2\u001b[0m \u001b[1;33m*\u001b[0m \u001b[0md3\u001b[0m \u001b[1;33m/\u001b[0m \u001b[0mwl3\u001b[0m\u001b[1;33m)\u001b[0m\u001b[1;33m\u001b[0m\u001b[1;33m\u001b[0m\u001b[0m\n\u001b[0m\u001b[0;32m      2\u001b[0m \u001b[1;33m\u001b[0m\u001b[0m\n\u001b[0;32m      3\u001b[0m \u001b[0mprint\u001b[0m\u001b[1;33m(\u001b[0m\u001b[1;34mf\"Phase matching pressure: {N * atm_to_psi:.2f} psi\"\u001b[0m\u001b[1;33m)\u001b[0m\u001b[1;33m\u001b[0m\u001b[1;33m\u001b[0m\u001b[0m\n",
      "\u001b[1;31mNameError\u001b[0m: name 'd2' is not defined"
     ]
    }
   ],
   "source": [
    "N = u / (8 * np.pi**2 * a**2) * (wl2  + wl4 - 2 * wl3) / (d2 / wl2 + d4 / wl4 - 2 * d3 / wl3)\n",
    "\n",
    "print(f\"Phase matching pressure: {N * atm_to_psi:.2f} psi\")"
   ]
  },
  {
   "cell_type": "code",
   "execution_count": null,
   "id": "2af625e4",
   "metadata": {},
   "outputs": [],
   "source": []
  }
 ],
 "metadata": {
  "kernelspec": {
   "display_name": "Python 3 (ipykernel)",
   "language": "python",
   "name": "python3"
  },
  "language_info": {
   "codemirror_mode": {
    "name": "ipython",
    "version": 3
   },
   "file_extension": ".py",
   "mimetype": "text/x-python",
   "name": "python",
   "nbconvert_exporter": "python",
   "pygments_lexer": "ipython3",
   "version": "3.9.1"
  }
 },
 "nbformat": 4,
 "nbformat_minor": 5
}
